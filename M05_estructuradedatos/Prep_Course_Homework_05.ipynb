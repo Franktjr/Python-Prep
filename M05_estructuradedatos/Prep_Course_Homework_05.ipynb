{
 "cells": [
  {
   "attachments": {},
   "cell_type": "markdown",
   "metadata": {},
   "source": [
    "## Estructuras de Datos"
   ]
  },
  {
   "attachments": {},
   "cell_type": "markdown",
   "metadata": {},
   "source": [
    "1) Crear una lista que contenga nombres de ciudades del mundo que contenga más de 5 elementos e imprimir por pantalla"
   ]
  },
  {
   "cell_type": "code",
   "execution_count": 1,
   "metadata": {},
   "outputs": [
    {
     "name": "stdout",
     "output_type": "stream",
     "text": [
      "['Barinas', 'Toronto', 'New York', 'Bogota', 'Rio']\n"
     ]
    }
   ],
   "source": [
    "lista_cidades = ['Barinas','Toronto','New York','Bogota','Rio']\n",
    "print(lista_cidades)"
   ]
  },
  {
   "attachments": {},
   "cell_type": "markdown",
   "metadata": {},
   "source": [
    "2) Imprimir por pantalla el segundo elemento de la lista"
   ]
  },
  {
   "cell_type": "code",
   "execution_count": 2,
   "metadata": {},
   "outputs": [
    {
     "name": "stdout",
     "output_type": "stream",
     "text": [
      "Toronto\n"
     ]
    }
   ],
   "source": [
    "print(lista_cidades[1])"
   ]
  },
  {
   "attachments": {},
   "cell_type": "markdown",
   "metadata": {},
   "source": [
    "3) Imprimir por pantalla del segundo al cuarto elemento"
   ]
  },
  {
   "cell_type": "code",
   "execution_count": 4,
   "metadata": {},
   "outputs": [
    {
     "name": "stdout",
     "output_type": "stream",
     "text": [
      "['Toronto', 'New York', 'Bogota']\n"
     ]
    }
   ],
   "source": [
    "print(lista_cidades[1:4])"
   ]
  },
  {
   "attachments": {},
   "cell_type": "markdown",
   "metadata": {},
   "source": [
    "4) Visualizar el tipo de dato de la lista"
   ]
  },
  {
   "cell_type": "code",
   "execution_count": 6,
   "metadata": {},
   "outputs": [
    {
     "name": "stdout",
     "output_type": "stream",
     "text": [
      "Elemento: Barinas Dato: <class 'str'>\n",
      "Elemento: Toronto Dato: <class 'str'>\n",
      "Elemento: New York Dato: <class 'str'>\n",
      "Elemento: Bogota Dato: <class 'str'>\n",
      "Elemento: Rio Dato: <class 'str'>\n"
     ]
    }
   ],
   "source": [
    "for x in lista_cidades:\n",
    "    print(f\"Elemento: {x} Dato: {type(x)}\")"
   ]
  },
  {
   "attachments": {},
   "cell_type": "markdown",
   "metadata": {},
   "source": [
    "5) Visualizar todos los elementos de la lista a partir del tercero de manera genérica, es decir, sin explicitar la posición del último elemento"
   ]
  },
  {
   "cell_type": "code",
   "execution_count": 7,
   "metadata": {},
   "outputs": [
    {
     "name": "stdout",
     "output_type": "stream",
     "text": [
      "['New York', 'Bogota', 'Rio']\n"
     ]
    }
   ],
   "source": [
    "lista_cidades = ['Barinas','Toronto','New York','Bogota','Rio']\n",
    "print(lista_cidades[2:])"
   ]
  },
  {
   "attachments": {},
   "cell_type": "markdown",
   "metadata": {},
   "source": [
    "6) Visualizar los primeros 4 elementos de la lista"
   ]
  },
  {
   "cell_type": "code",
   "execution_count": 8,
   "metadata": {},
   "outputs": [
    {
     "name": "stdout",
     "output_type": "stream",
     "text": [
      "['Barinas', 'Toronto', 'New York', 'Bogota']\n"
     ]
    }
   ],
   "source": [
    "print(lista_cidades[:4])"
   ]
  },
  {
   "attachments": {},
   "cell_type": "markdown",
   "metadata": {},
   "source": [
    "7) Agregar una ciudad más a la lista que ya exista y otra que no ¿Arroja algún tipo de error?"
   ]
  },
  {
   "cell_type": "code",
   "execution_count": 15,
   "metadata": {},
   "outputs": [
    {
     "name": "stdout",
     "output_type": "stream",
     "text": [
      "['Barinas', 'Toronto', 'New York', 'Riobamba', 'Bogota', 'Riobamba', 'Rio', 'Guayaquil', 'Quito', 1, 2, 3, 'Bogota', 'Quito', 'Bogota', 'Quito', 'Bogota', 'Quito']\n"
     ]
    }
   ],
   "source": [
    "ciudadaA = 'Bogota'\n",
    "ciudadaB = 'Quito'\n",
    "lista_cidades.append(ciudadaA)\n",
    "lista_cidades.append(ciudadaB)\n",
    "\n",
    "print(lista_cidades)\n",
    "#no arroja error porque las lista puede contener elemnetos repetidos"
   ]
  },
  {
   "attachments": {},
   "cell_type": "markdown",
   "metadata": {},
   "source": [
    "8) Agregar otra ciudad, pero en la cuarta posición"
   ]
  },
  {
   "cell_type": "code",
   "execution_count": 11,
   "metadata": {},
   "outputs": [
    {
     "name": "stdout",
     "output_type": "stream",
     "text": [
      "['Barinas', 'Toronto', 'New York', 'Riobamba', 'Bogota', 'Riobamba', 'Rio', 'Guayaquil', 'Quito']\n"
     ]
    }
   ],
   "source": [
    "ciudadC = 'Riobamba'\n",
    "lista_cidades.insert(3,ciudadC)\n",
    "print(lista_cidades)"
   ]
  },
  {
   "attachments": {},
   "cell_type": "markdown",
   "metadata": {},
   "source": [
    "9) Concatenar otra lista a la ya creada"
   ]
  },
  {
   "cell_type": "code",
   "execution_count": 12,
   "metadata": {},
   "outputs": [
    {
     "name": "stdout",
     "output_type": "stream",
     "text": [
      "['Barinas', 'Toronto', 'New York', 'Riobamba', 'Bogota', 'Riobamba', 'Rio', 'Guayaquil', 'Quito', 1, 2, 3]\n"
     ]
    }
   ],
   "source": [
    "lista_b = [1,2,3]\n",
    "lista_cidades.extend(lista_b)\n",
    "print(lista_cidades)"
   ]
  },
  {
   "attachments": {},
   "cell_type": "markdown",
   "metadata": {},
   "source": [
    "10) Encontrar el índice de la ciudad que en el punto 7 agregamos duplicada. ¿Se nota alguna particularidad?"
   ]
  },
  {
   "cell_type": "code",
   "execution_count": 16,
   "metadata": {},
   "outputs": [
    {
     "name": "stdout",
     "output_type": "stream",
     "text": [
      "4\n"
     ]
    }
   ],
   "source": [
    "indice = lista_cidades.index('Bogota')\n",
    "print(indice)\n",
    "# solo me va a dar la primera coincidencia"
   ]
  },
  {
   "attachments": {},
   "cell_type": "markdown",
   "metadata": {},
   "source": [
    "11) ¿Qué pasa si se busca un elemento que no existe?"
   ]
  },
  {
   "cell_type": "code",
   "execution_count": 19,
   "metadata": {},
   "outputs": [],
   "source": [
    "\n",
    "#me arroja un erro que el elemento o existe"
   ]
  },
  {
   "attachments": {},
   "cell_type": "markdown",
   "metadata": {},
   "source": [
    "12) Eliminar un elemento de la lista"
   ]
  },
  {
   "cell_type": "code",
   "execution_count": 20,
   "metadata": {},
   "outputs": [
    {
     "name": "stdout",
     "output_type": "stream",
     "text": [
      "['Barinas', 'Toronto', 'New York', 'Riobamba', 'Bogota', 'Riobamba', 'Rio', 'Quito', 1, 2, 3, 'Bogota', 'Quito', 'Bogota', 'Quito', 'Bogota', 'Quito']\n"
     ]
    }
   ],
   "source": [
    "lista_cidades.remove('Guayaquil')\n",
    "print(lista_cidades)"
   ]
  },
  {
   "attachments": {},
   "cell_type": "markdown",
   "metadata": {},
   "source": [
    "13) ¿Qué pasa si el elemento a eliminar no existe?"
   ]
  },
  {
   "cell_type": "code",
   "execution_count": 22,
   "metadata": {},
   "outputs": [],
   "source": [
    "#me arroja un erro que el elemento o existe"
   ]
  },
  {
   "attachments": {},
   "cell_type": "markdown",
   "metadata": {},
   "source": [
    "14) Extraer el úlimo elemento de la lista, guardarlo en una variable e imprimirlo"
   ]
  },
  {
   "cell_type": "code",
   "execution_count": 23,
   "metadata": {},
   "outputs": [
    {
     "name": "stdout",
     "output_type": "stream",
     "text": [
      "Quito\n"
     ]
    }
   ],
   "source": [
    "ultimo_elemento = lista_cidades.pop()\n",
    "print(ultimo_elemento)"
   ]
  },
  {
   "attachments": {},
   "cell_type": "markdown",
   "metadata": {},
   "source": [
    "15) Mostrar la lista multiplicada por 4"
   ]
  },
  {
   "cell_type": "code",
   "execution_count": 24,
   "metadata": {},
   "outputs": [
    {
     "name": "stdout",
     "output_type": "stream",
     "text": [
      "['Barinas', 'Toronto', 'New York', 'Riobamba', 'Bogota', 'Riobamba', 'Rio', 'Quito', 1, 2, 3, 'Bogota', 'Quito', 'Bogota', 'Quito', 'Bogota', 'Barinas', 'Toronto', 'New York', 'Riobamba', 'Bogota', 'Riobamba', 'Rio', 'Quito', 1, 2, 3, 'Bogota', 'Quito', 'Bogota', 'Quito', 'Bogota', 'Barinas', 'Toronto', 'New York', 'Riobamba', 'Bogota', 'Riobamba', 'Rio', 'Quito', 1, 2, 3, 'Bogota', 'Quito', 'Bogota', 'Quito', 'Bogota', 'Barinas', 'Toronto', 'New York', 'Riobamba', 'Bogota', 'Riobamba', 'Rio', 'Quito', 1, 2, 3, 'Bogota', 'Quito', 'Bogota', 'Quito', 'Bogota']\n"
     ]
    }
   ],
   "source": [
    "print(lista_cidades*4)"
   ]
  },
  {
   "attachments": {},
   "cell_type": "markdown",
   "metadata": {},
   "source": [
    "16) Crear una tupla que contenga los números enteros del 1 al 20"
   ]
  },
  {
   "cell_type": "code",
   "execution_count": 27,
   "metadata": {},
   "outputs": [
    {
     "name": "stdout",
     "output_type": "stream",
     "text": [
      "(1, 2, 3, 4, 5, 6, 7, 8, 9, 10, 11, 12, 13, 14, 15, 16, 17, 18, 19, 20)\n"
     ]
    }
   ],
   "source": [
    "\n",
    "tupla_ejemplo = tuple(range(1, 21))\n",
    "\n",
    "print(tupla_ejemplo)"
   ]
  },
  {
   "attachments": {},
   "cell_type": "markdown",
   "metadata": {},
   "source": [
    "17) Imprimir desde el índice 10 al 15 de la tupla"
   ]
  },
  {
   "cell_type": "code",
   "execution_count": 28,
   "metadata": {},
   "outputs": [
    {
     "name": "stdout",
     "output_type": "stream",
     "text": [
      "(11, 12, 13, 14, 15)\n"
     ]
    }
   ],
   "source": [
    "print(tupla_ejemplo[10:15])"
   ]
  },
  {
   "attachments": {},
   "cell_type": "markdown",
   "metadata": {},
   "source": [
    "18) Evaluar si los números 20 y 30 están dentro de la tupla"
   ]
  },
  {
   "cell_type": "code",
   "execution_count": 29,
   "metadata": {},
   "outputs": [
    {
     "name": "stdout",
     "output_type": "stream",
     "text": [
      "El numero 20 se encuentra en la tupla\n",
      "El numero 30 no se encuentra en la tupla\n"
     ]
    }
   ],
   "source": [
    "if 20 in tupla_ejemplo:\n",
    "    print(\"El numero 20 se encuentra en la tupla\")\n",
    "else:\n",
    "    print(\"El numero 20 no se encuentra en la tupla\")\n",
    "\n",
    "if 30 in tupla_ejemplo:\n",
    "    print(\"El numero 30 se encuentra en la tupla\")\n",
    "else:\n",
    "    print(\"El numero 30 no se encuentra en la tupla\")"
   ]
  },
  {
   "attachments": {},
   "cell_type": "markdown",
   "metadata": {},
   "source": [
    "19) Con la lista creada en el punto 1, validar la existencia del elemento 'París' y si no existe, agregarlo. Utilizar una variable e informar lo sucedido."
   ]
  },
  {
   "cell_type": "code",
   "execution_count": 30,
   "metadata": {},
   "outputs": [
    {
     "name": "stdout",
     "output_type": "stream",
     "text": [
      "Se ha agregado París a la lista porque no se encontraba presente\n"
     ]
    }
   ],
   "source": [
    "lista_cidades = ['Barinas','Toronto','New York','Bogota','Rio']\n",
    "ciudad_verificar = 'París' \n",
    "if not ciudad_verificar in lista_cidades:\n",
    "    lista_cidades.append(ciudad_verificar)\n",
    "    print(f\"Se ha agregado {ciudad_verificar} a la lista porque no se encontraba presente\")\n",
    "else:\n",
    "    print(f\"{ciudad_verificar} ya se encontraba en la lista\")"
   ]
  },
  {
   "attachments": {},
   "cell_type": "markdown",
   "metadata": {},
   "source": [
    "20) Mostrar la cantidad de veces que se encuentra un elemento específico dentro de la tupla y de la lista"
   ]
  },
  {
   "cell_type": "code",
   "execution_count": 34,
   "metadata": {},
   "outputs": [
    {
     "name": "stdout",
     "output_type": "stream",
     "text": [
      "La ciudad 'New York' se encuentra 1 vez/veces en la lista y el número '3' se encntra 1 vez/veces en la tupla\n"
     ]
    }
   ],
   "source": [
    "elemento_lista = 'New York'\n",
    "elemento_tupla = 3\n",
    "elemento_repetido_lista = lista_cidades.count(elemento_lista)\n",
    "elemento_repetido_tupla = tupla_ejemplo.count(elemento_tupla)\n",
    "\n",
    "print(f\"La ciudad '{elemento_lista}' se encuentra {elemento_repetido_lista} vez/veces en la lista y el número '{elemento_tupla}' se encntra {elemento_repetido_tupla} vez/veces en la tupla\")"
   ]
  },
  {
   "attachments": {},
   "cell_type": "markdown",
   "metadata": {},
   "source": [
    "21) Convertir la tupla en una lista"
   ]
  },
  {
   "cell_type": "code",
   "execution_count": 35,
   "metadata": {},
   "outputs": [
    {
     "name": "stdout",
     "output_type": "stream",
     "text": [
      "[1, 2, 3, 4, 5, 6, 7, 8, 9, 10, 11, 12, 13, 14, 15, 16, 17, 18, 19, 20]\n"
     ]
    }
   ],
   "source": [
    "tupla_a_lista = list(tupla_ejemplo)\n",
    "print(tupla_a_lista)"
   ]
  },
  {
   "attachments": {},
   "cell_type": "markdown",
   "metadata": {},
   "source": [
    "22) Desempaquetar solo los primeros 3 elementos de la tupla en 3 variables"
   ]
  },
  {
   "cell_type": "code",
   "execution_count": 39,
   "metadata": {},
   "outputs": [
    {
     "name": "stdout",
     "output_type": "stream",
     "text": [
      "1 2 3\n"
     ]
    }
   ],
   "source": [
    "a,b,c = tupla_ejemplo[:3]\n",
    "print(a,b,c)"
   ]
  },
  {
   "attachments": {},
   "cell_type": "markdown",
   "metadata": {},
   "source": [
    "23) Crear un diccionario utilizando la lista crada en el punto 1, asignandole la clave \"ciudad\". Agregar tambien otras claves, como puede ser \"Pais\" y \"Continente\"."
   ]
  },
  {
   "cell_type": "code",
   "execution_count": 40,
   "metadata": {},
   "outputs": [
    {
     "name": "stdout",
     "output_type": "stream",
     "text": [
      "{'Ciudad': ['Barinas', 'Toronto', 'New York', 'Bogota', 'Rio', 'París'], 'Pais': 'Venezuela', 'Cotinente': 'America'}\n"
     ]
    }
   ],
   "source": [
    "dict_ejemplo = dict({'Ciudad':lista_cidades,'Pais':'Venezuela','Cotinente':'America'})\n"
   ]
  },
  {
   "attachments": {},
   "cell_type": "markdown",
   "metadata": {},
   "source": [
    "24) Imprimir las claves del diccionario"
   ]
  },
  {
   "cell_type": "code",
   "execution_count": 42,
   "metadata": {},
   "outputs": [
    {
     "name": "stdout",
     "output_type": "stream",
     "text": [
      "dict_keys(['Ciudad', 'Pais', 'Cotinente'])\n"
     ]
    }
   ],
   "source": [
    "print(dict_ejemplo.keys())"
   ]
  },
  {
   "attachments": {},
   "cell_type": "markdown",
   "metadata": {},
   "source": [
    "25) Imprimir las ciudades a través de su clave"
   ]
  },
  {
   "cell_type": "code",
   "execution_count": 43,
   "metadata": {},
   "outputs": [
    {
     "name": "stdout",
     "output_type": "stream",
     "text": [
      "['Barinas', 'Toronto', 'New York', 'Bogota', 'Rio', 'París']\n"
     ]
    }
   ],
   "source": [
    "print(dict_ejemplo.get('Ciudad'))"
   ]
  }
 ],
 "metadata": {
  "interpreter": {
   "hash": "c85384e4cb51c8b72350f3a8712cc8351fdc3955e32a27f9b60c6242ab125f01"
  },
  "kernelspec": {
   "display_name": "Python 3 (ipykernel)",
   "language": "python",
   "name": "python3"
  },
  "language_info": {
   "codemirror_mode": {
    "name": "ipython",
    "version": 3
   },
   "file_extension": ".py",
   "mimetype": "text/x-python",
   "name": "python",
   "nbconvert_exporter": "python",
   "pygments_lexer": "ipython3",
   "version": "3.9.7"
  }
 },
 "nbformat": 4,
 "nbformat_minor": 4
}

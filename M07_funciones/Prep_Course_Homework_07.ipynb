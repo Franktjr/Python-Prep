{
 "cells": [
  {
   "attachments": {},
   "cell_type": "markdown",
   "metadata": {},
   "source": [
    "## Funciones"
   ]
  },
  {
   "attachments": {},
   "cell_type": "markdown",
   "metadata": {},
   "source": [
    "1) Crear una función que reciba un número como parámetro y devuelva True si es primo y False si no lo es"
   ]
  },
  {
   "cell_type": "code",
   "execution_count": 8,
   "metadata": {},
   "outputs": [
    {
     "name": "stdout",
     "output_type": "stream",
     "text": [
      "True\n",
      "Ha salido de la funcion exitosamente\n"
     ]
    }
   ],
   "source": [
    "def primo(numero):\n",
    "    resultado = [x for x in range(1,numero+1) if numero % x == 0]\n",
    "    cantidad_divisibles = len(resultado)\n",
    "\n",
    "    if cantidad_divisibles == 2:\n",
    "        return True\n",
    "    else:\n",
    "        return False\n",
    "\n",
    "intentos = 0\n",
    "while intentos < 3:\n",
    "    numero_calcular = input('Igrese un número entero positivo: ')\n",
    "    if numero_calcular.isdigit():\n",
    "        numero_calcular = int(numero_calcular)\n",
    "        resultado_primo = primo(numero_calcular)\n",
    "        print(resultado_primo)\n",
    "        break\n",
    "    else:\n",
    "        print('No ha ingresado un número entero positivo.')\n",
    "    intentos+=1\n",
    "    if intentos == 3:\n",
    "        print('Ha agotados sus intentos')\n",
    "\n",
    "print(\"Ha salido de la funcion exitosamente\")"
   ]
  },
  {
   "attachments": {},
   "cell_type": "markdown",
   "metadata": {},
   "source": [
    "2) Utilizando la función del punto 1, realizar otra función que reciba de parámetro una lista de números y devuelva sólo aquellos que son primos en otra lista"
   ]
  },
  {
   "cell_type": "code",
   "execution_count": 18,
   "metadata": {},
   "outputs": [
    {
     "name": "stdout",
     "output_type": "stream",
     "text": [
      "lista_primos [2, 5, 7, 3]\n"
     ]
    }
   ],
   "source": [
    "def primo(numero):\n",
    "    resultado = [x for x in range(1,numero+1) if numero % x == 0]\n",
    "    cantidad_divisibles = len(resultado)\n",
    "\n",
    "    if cantidad_divisibles == 2:\n",
    "        return True\n",
    "    else:\n",
    "        return False\n",
    "\n",
    "lista_numeros = [2,5,6,8,7,9,3]\n",
    "lista_primos = list(filter(lambda x: primo(x),lista_numeros))\n",
    "print('lista_primos',lista_primos)\n",
    "\n"
   ]
  },
  {
   "attachments": {},
   "cell_type": "markdown",
   "metadata": {},
   "source": [
    "3) Crear una función que al recibir una lista de números, devuelva el que más se repite y cuántas veces lo hace. Si hay más de un \"más repetido\", que devuelva cualquiera"
   ]
  },
  {
   "cell_type": "code",
   "execution_count": 25,
   "metadata": {},
   "outputs": [
    {
     "name": "stdout",
     "output_type": "stream",
     "text": [
      "mas_repetido 7\n",
      "repeticiones 5\n",
      "El número más repetido es 7 y se repite 5 veces.\n"
     ]
    }
   ],
   "source": [
    "def numero_mas_repetido(lista):\n",
    "    frecuencia = {}\n",
    "    \n",
    "    for numero in lista:\n",
    "        if numero in frecuencia:\n",
    "            frecuencia[numero] += 1\n",
    "        else:\n",
    "            frecuencia[numero] = 1\n",
    "    \n",
    "    mas_repetido = max(frecuencia, key=frecuencia.get)#especificamos que busque el maximo entre los valores de cada clave del diciconario, key=frecuencia.get es como una condicion de donde teine que buscar, pero al final me devuelve es la clave con el valor mas alto\n",
    "    print('mas_repetido',mas_repetido)\n",
    "    repeticiones = frecuencia[mas_repetido]# com en mas_repetido se guarda la clave oc el valor mas alto, entonces aqui guardamos el valor de esa clave. y asi tendriamos dos variable suna cn clave y otra  con el valor.\n",
    "    print('repeticiones',repeticiones)\n",
    "    \n",
    "    return mas_repetido, repeticiones\n",
    "\n",
    "numeros = [7,3,2,5,3,7,3,5,9,7,7,3,7,5,3]\n",
    "resultado = numero_mas_repetido(numeros)\n",
    "print(f\"El número más repetido es {resultado[0]} y se repite {resultado[1]} veces.\")\n",
    "\n",
    "\n",
    "\n"
   ]
  },
  {
   "attachments": {},
   "cell_type": "markdown",
   "metadata": {},
   "source": [
    "4) Crear una función que convierta entre grados Celsius, Farenheit y Kelvin<br>\n",
    "Fórmula 1\t: (°C × 9/5) + 32 = °F<br>\n",
    "Fórmula 2\t: °C + 273.15 = °K<br>\n",
    "Debe recibir 3 parámetros: el valor, la medida de orígen y la medida de destino\n"
   ]
  },
  {
   "cell_type": "code",
   "execution_count": null,
   "metadata": {},
   "outputs": [],
   "source": [
    "def llamando_operacion(medida_origen,valor,medida_destino):\n",
    "\n",
    "    if medida_origen == 'F' and medida_destino == 'K':\n",
    "        resultado = ((valor-32)/1.8) + 273.15\n",
    "    elif medida_origen == 'F' and medida_destino == 'C':\n",
    "        resultado =  (valor-32)/1.8\n",
    "    elif medida_origen == 'C' and medida_destino == 'K':\n",
    "        resultado = valor + 273.15\n",
    "    elif medida_origen == 'C' and medida_destino == 'F':\n",
    "        resultado = (valor * 1.8) + 32 #1.8 es lo mismo que 9/5\n",
    "    elif medida_origen == 'K' and medida_destino == 'F':\n",
    "        resultado = ((valor-273.15) * 1.8) + 32\n",
    "    elif medida_origen == 'K' and medida_destino == 'C':\n",
    "        resultado = valor - 273.15\n",
    "    \n",
    "    cadena = f'{resultado}°{medida_destino}'\n",
    "    return cadena \n",
    "\n",
    "intentos_medida = 0\n",
    "while intentos_medida < 3:\n",
    "    print('Ingrese la medida de origen del valor a convertir:')\n",
    "    print('Para °F escriba \"F\" sin comillas')\n",
    "    print('Para °K escriba \"K\" sin comillas')\n",
    "    print('Para °C escriba \"C\" sin comillas')\n",
    "    medida_origen = input().upper()# en caso de ingrreesar misnucula, esta se tome como valida\n",
    "\n",
    "    opciones = ['F','K','C']\n",
    "    if medida_origen in opciones:\n",
    "        intentos_medida = 0\n",
    "        while intentos_medida < 3:\n",
    "            print('Ingrese la medida de destino del valor a convertir:')\n",
    "            print('Para °F escriba \"F\" sin comillas')\n",
    "            print('Para °K escriba \"K\" sin comillas')\n",
    "            print('Para °C escriba \"C\" sin comillas')\n",
    "            medida_destino = input().upper()# en caso de ingrresar misnucula, esta se tome como valida\n",
    "\n",
    "            if medida_destino in opciones:\n",
    "                intentos_valor = 0\n",
    "                while intentos_valor < 3:\n",
    "                    valor_convertir = input('Ingrese el valor a convertir (por favor, solo ingrese números): ')\n",
    "                    valor_copia = valor_convertir #Guardamis una copia solo para mostrar al final el reusltado, esto es en aso de que sea un entero y al convertilro a float se le agregaria .00 al final, pro no deseamos mostrarlo asi en el resultado final\n",
    "                    try:\n",
    "                        valor_convertir = float(valor_convertir)\n",
    "                        if medida_origen == medida_destino:\n",
    "                            print(f'{valor_copia}°{medida_origen} son aproximadamente {valor_convertir}°{medida_destino}')\n",
    "                            intentos_medida = 4\n",
    "                            break \n",
    "                        else:\n",
    "                            resultado_obtenido = llamando_operacion(medida_origen,valor_convertir,medida_destino)\n",
    "                            print(f'{valor_copia}°{medida_origen} son aproximadamente {resultado_obtenido}')\n",
    "                            intentos_medida = 4\n",
    "                            break \n",
    "                    except Exception as e:\n",
    "                        print(\"Por favor, ingrese un valor numérico válido\")\n",
    "                        intentos_valor+=1\n",
    "\n",
    "                    if intentos_valor == 3:\n",
    "                        intentos_medida = 3\n",
    "                        break \n",
    "\n",
    "            else:\n",
    "                print(\"La medida ingresada no esta dentro de las opciones\\n\")\n",
    "                intentos_medida+=1\n",
    "    else:\n",
    "        print(\"La medida ingresada no esta dentro de las opciones\\n\")\n",
    "        intentos_medida+=1\n",
    "\n",
    "    if intentos_medida == 3:\n",
    "        print(\"Ha exedido el limite de intentos\")\n",
    "        break\n",
    "\n",
    "print(\"Ha salido del programa con éxito\")\n"
   ]
  },
  {
   "attachments": {},
   "cell_type": "markdown",
   "metadata": {},
   "source": [
    "5) Iterando una lista con los tres valores posibles de temperatura que recibe la función del punto 5, hacer un print para cada combinación de los mismos:"
   ]
  },
  {
   "cell_type": "code",
   "execution_count": 27,
   "metadata": {},
   "outputs": [],
   "source": [
    "# no es entendible el enunciado:\n",
    "#1- est es el punto 5\n",
    "#2- si hace referencia la punto 4 en dicho punto no se crea lista con los valores reibidos.\n",
    "#3- no se entiende a que combinacion se refiere en \"hacer un print para cada combinación de los mismos\"\n"
   ]
  },
  {
   "attachments": {},
   "cell_type": "markdown",
   "metadata": {},
   "source": [
    "6) Armar una función que devuelva el factorial de un número. Tener en cuenta que el usuario puede equivocarse y enviar de parámetro un número no entero o negativo"
   ]
  },
  {
   "cell_type": "code",
   "execution_count": 53,
   "metadata": {},
   "outputs": [
    {
     "name": "stdout",
     "output_type": "stream",
     "text": [
      "120\n",
      "El número debe ser positivo\n"
     ]
    }
   ],
   "source": [
    "def factorial_calculo(numero):\n",
    "    # Verifica si el número no es entero y devuelve un mensaje de error\n",
    "    if type(numero) != int:\n",
    "        return 'El número debe ser un entero'\n",
    "    \n",
    "    # Verifica si el número es negativo y devuelve un mensaje de error\n",
    "    if numero < 0:\n",
    "        return 'El número debe ser positivo'\n",
    "    \n",
    "    # Caso base: si el número es 0 o 1, el factorial es 1\n",
    "    if numero <= 1:\n",
    "        return 1\n",
    "    \n",
    "    # Recursión: calcula el factorial del número multiplicándolo por el factorial del número anterior\n",
    "    # print('numero',numero)\n",
    "    numero = numero * factorial_calculo(numero - 1)\n",
    "    \n",
    "    return numero\n",
    "\n",
    "print(factorial_calculo(5))\n",
    "print(factorial_calculo(-5))"
   ]
  }
 ],
 "metadata": {
  "interpreter": {
   "hash": "c85384e4cb51c8b72350f3a8712cc8351fdc3955e32a27f9b60c6242ab125f01"
  },
  "kernelspec": {
   "display_name": "Python 3 (ipykernel)",
   "language": "python",
   "name": "python3"
  },
  "language_info": {
   "codemirror_mode": {
    "name": "ipython",
    "version": 3
   },
   "file_extension": ".py",
   "mimetype": "text/x-python",
   "name": "python",
   "nbconvert_exporter": "python",
   "pygments_lexer": "ipython3",
   "version": "3.12.0"
  }
 },
 "nbformat": 4,
 "nbformat_minor": 4
}

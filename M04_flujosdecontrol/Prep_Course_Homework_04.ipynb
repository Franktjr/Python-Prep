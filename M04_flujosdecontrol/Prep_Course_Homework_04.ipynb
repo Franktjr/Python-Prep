{
 "cells": [
  {
   "attachments": {},
   "cell_type": "markdown",
   "metadata": {},
   "source": [
    "## Flujos de Control"
   ]
  },
  {
   "attachments": {},
   "cell_type": "markdown",
   "metadata": {},
   "source": [
    "1) Crear una variable que contenga un elemento del conjunto de números enteros y luego imprimir por pantalla si es mayor o menor a cero"
   ]
  },
  {
   "cell_type": "code",
   "execution_count": 1,
   "metadata": {},
   "outputs": [
    {
     "name": "stdout",
     "output_type": "stream",
     "text": [
      "El número es mayor a cero\n"
     ]
    }
   ],
   "source": [
    "numero = 6\n",
    "if numero < 0:\n",
    "    print(\"El número es menor a cero\")\n",
    "else:\n",
    "    print(\"El número es mayor a cero\")"
   ]
  },
  {
   "attachments": {},
   "cell_type": "markdown",
   "metadata": {},
   "source": [
    "2) Crear dos variables y un condicional que informe si son del mismo tipo de dato"
   ]
  },
  {
   "cell_type": "code",
   "execution_count": 2,
   "metadata": {},
   "outputs": [
    {
     "name": "stdout",
     "output_type": "stream",
     "text": [
      "Las variables son del mismo tipo\n"
     ]
    }
   ],
   "source": [
    "variablea = '5151dcd'\n",
    "variableab= 'dgc5'\n",
    "if type(variableab) == type(variablea):\n",
    "    print('Las variables son del mismo tipo')\n",
    "else:\n",
    "    print('Las variables no son del mismo tipo')\n"
   ]
  },
  {
   "attachments": {},
   "cell_type": "markdown",
   "metadata": {},
   "source": [
    "3) Para los valores enteros del 1 al 20, imprimir por pantalla si es par o impar"
   ]
  },
  {
   "cell_type": "code",
   "execution_count": 3,
   "metadata": {},
   "outputs": [
    {
     "name": "stdout",
     "output_type": "stream",
     "text": [
      "El número 1 es impar\n",
      "El número 2 es par\n",
      "El número 3 es impar\n",
      "El número 4 es par\n",
      "El número 5 es impar\n",
      "El número 6 es par\n",
      "El número 7 es impar\n",
      "El número 8 es par\n",
      "El número 9 es impar\n",
      "El número 10 es par\n",
      "El número 11 es impar\n",
      "El número 12 es par\n",
      "El número 13 es impar\n",
      "El número 14 es par\n",
      "El número 15 es impar\n",
      "El número 16 es par\n",
      "El número 17 es impar\n",
      "El número 18 es par\n",
      "El número 19 es impar\n",
      "El número 20 es par\n"
     ]
    }
   ],
   "source": [
    "for x in range(1,21):\n",
    "    if x % 2 == 0:\n",
    "        print(f\"El número {x} es par\")\n",
    "    else:\n",
    "        print(f\"El número {x} es impar\")\n"
   ]
  },
  {
   "attachments": {},
   "cell_type": "markdown",
   "metadata": {},
   "source": [
    "4) En un ciclo for mostrar para los valores entre 0 y 5 el resultado de elevarlo a la potencia igual a 3"
   ]
  },
  {
   "cell_type": "code",
   "execution_count": 4,
   "metadata": {},
   "outputs": [
    {
     "name": "stdout",
     "output_type": "stream",
     "text": [
      "El 0 elevado a la potencia igual a 3 es 0\n",
      "El 1 elevado a la potencia igual a 3 es 1\n",
      "El 2 elevado a la potencia igual a 3 es 8\n",
      "El 3 elevado a la potencia igual a 3 es 27\n",
      "El 4 elevado a la potencia igual a 3 es 64\n",
      "El 5 elevado a la potencia igual a 3 es 125\n"
     ]
    }
   ],
   "source": [
    "for x in range (0,6):\n",
    "    resultado = x**3\n",
    "    print(f\"El {x} elevado a la potencia igual a 3 es {resultado}\")"
   ]
  },
  {
   "attachments": {},
   "cell_type": "markdown",
   "metadata": {},
   "source": [
    "5) Crear una variable que contenga un número entero y realizar un ciclo for la misma cantidad de ciclos"
   ]
  },
  {
   "cell_type": "code",
   "execution_count": 5,
   "metadata": {},
   "outputs": [
    {
     "name": "stdout",
     "output_type": "stream",
     "text": [
      "0\n",
      "1\n",
      "2\n",
      "3\n",
      "4\n"
     ]
    }
   ],
   "source": [
    "numeor= 5\n",
    "\n",
    "for x in range(numeor):\n",
    "    print(x)"
   ]
  },
  {
   "attachments": {},
   "cell_type": "markdown",
   "metadata": {},
   "source": [
    "6) Utilizar un ciclo while para realizar el factorial de un número guardado en una variable, sólo si la variable contiene un número entero mayor a 0"
   ]
  },
  {
   "cell_type": "code",
   "execution_count": 11,
   "metadata": {},
   "outputs": [
    {
     "name": "stdout",
     "output_type": "stream",
     "text": [
      "El fatorial de 5 es 120\n"
     ]
    }
   ],
   "source": [
    "variable = 5\n",
    "factorial = variable\n",
    "variableb = 5\n",
    "\n",
    "while variable >0:\n",
    "    if variable == 1:\n",
    "        pass\n",
    "    else:\n",
    "        factorial = factorial * (variable-1)\n",
    "    variable-=1\n",
    "\n",
    "print(f\"El fatorial de {variableb} es {factorial}\")"
   ]
  },
  {
   "attachments": {},
   "cell_type": "markdown",
   "metadata": {},
   "source": [
    "7) Crear un ciclo for dentro de un ciclo while"
   ]
  },
  {
   "cell_type": "code",
   "execution_count": 13,
   "metadata": {},
   "outputs": [
    {
     "name": "stdout",
     "output_type": "stream",
     "text": [
      "Salimos del bucle\n"
     ]
    }
   ],
   "source": [
    "control = True\n",
    "while control:\n",
    "    for x in range(5):\n",
    "        if x == 2:\n",
    "            control = False\n",
    "\n",
    "print(\"Salimos del bucle\")"
   ]
  },
  {
   "attachments": {},
   "cell_type": "markdown",
   "metadata": {},
   "source": [
    "8) Crear un ciclo while dentro de un ciclo for"
   ]
  },
  {
   "cell_type": "code",
   "execution_count": 17,
   "metadata": {},
   "outputs": [
    {
     "name": "stdout",
     "output_type": "stream",
     "text": [
      "0\n",
      "Hola\n",
      "Hola\n",
      "Hola\n",
      "1\n",
      "Hola\n",
      "Hola\n",
      "Hola\n",
      "2\n",
      "Hola\n",
      "Hola\n",
      "Hola\n",
      "3\n",
      "4\n",
      "Salimos del bucle\n"
     ]
    }
   ],
   "source": [
    "for x in range(5):\n",
    "    print(x)\n",
    "    cont = 0\n",
    "    while x < 3:\n",
    "        print(\"Hola\")\n",
    "        cont+=1\n",
    "        if cont == 3:\n",
    "            break\n",
    "print(\"Salimos del bucle\")"
   ]
  },
  {
   "attachments": {},
   "cell_type": "markdown",
   "metadata": {},
   "source": [
    "9) Imprimir los números primos existentes entre 0 y 30"
   ]
  },
  {
   "cell_type": "code",
   "execution_count": 26,
   "metadata": {},
   "outputs": [
    {
     "name": "stdout",
     "output_type": "stream",
     "text": [
      "Los numeros primos son [2, 3, 5, 7, 11, 13, 17, 19, 23, 29]\n"
     ]
    }
   ],
   "source": [
    "lista_primos = []\n",
    "for numero in range(1,31):\n",
    "    primo = 0\n",
    "    for j in range(1,numero+1):\n",
    "        resultado = numero % j\n",
    "        if resultado == 0:\n",
    "            primo+=1\n",
    "    if primo == 2:\n",
    "        lista_primos.append(numero)\n",
    "print(f\"Los numeros primos son {lista_primos}\")\n"
   ]
  },
  {
   "attachments": {},
   "cell_type": "markdown",
   "metadata": {},
   "source": [
    "10) ¿Se puede mejorar el proceso del punto 9? Utilizar las sentencias break y/ó continue para tal fin"
   ]
  },
  {
   "cell_type": "code",
   "execution_count": 27,
   "metadata": {},
   "outputs": [
    {
     "name": "stdout",
     "output_type": "stream",
     "text": [
      "Los numeros primos son [2, 3, 5, 7, 11, 13, 17, 19, 23, 29]\n"
     ]
    }
   ],
   "source": [
    "lista_primos = []\n",
    "for numero in range(1,31):\n",
    "    primo = 0\n",
    "    for j in range(1,numero+1):\n",
    "        resultado = numero % j\n",
    "        if resultado == 0:\n",
    "            primo+=1\n",
    "        else:\n",
    "            continue\n",
    "    if primo == 2:\n",
    "        lista_primos.append(numero)\n",
    "    else:\n",
    "        continue\n",
    "print(f\"Los numeros primos son {lista_primos}\")"
   ]
  },
  {
   "attachments": {},
   "cell_type": "markdown",
   "metadata": {},
   "source": [
    "11) En los puntos 9 y 10, se diseño un código que encuentra números primos y además se lo optimizó. ¿Es posible saber en qué medida se optimizó?"
   ]
  },
  {
   "cell_type": "code",
   "execution_count": null,
   "metadata": {},
   "outputs": [],
   "source": [
    "#solo se le agrego el continuo"
   ]
  },
  {
   "attachments": {},
   "cell_type": "markdown",
   "metadata": {},
   "source": [
    "12) Aplicando continue, armar un ciclo while que solo imprima los valores divisibles por 12, dentro del rango de números de 100 a 300"
   ]
  },
  {
   "cell_type": "code",
   "execution_count": 29,
   "metadata": {},
   "outputs": [
    {
     "name": "stdout",
     "output_type": "stream",
     "text": [
      "108\n",
      "120\n",
      "132\n",
      "144\n",
      "156\n",
      "168\n",
      "180\n",
      "192\n",
      "204\n",
      "216\n",
      "228\n",
      "240\n",
      "252\n",
      "264\n",
      "276\n",
      "288\n",
      "300\n",
      "Fin\n"
     ]
    }
   ],
   "source": [
    "inicio = 100\n",
    "\n",
    "while inicio <=300:\n",
    "    if inicio % 12 == 0:\n",
    "        print(inicio)\n",
    "    else:\n",
    "        continue\n",
    "    inicio +=1\n",
    "print(\"fin\")\n",
    "\n"
   ]
  },
  {
   "attachments": {},
   "cell_type": "markdown",
   "metadata": {},
   "source": [
    "13) Utilizar la función **input()** que permite hacer ingresos por teclado, para encontrar números primos y dar la opción al usario de buscar el siguiente"
   ]
  },
  {
   "cell_type": "code",
   "execution_count": null,
   "metadata": {},
   "outputs": [],
   "source": [
    "while True:\n",
    "    numero = input('Ingrese un numero entero:')\n",
    "    if not numero.isdigit(): #verificamos si e sun numero enterom de ser letra o float arrojara que no es entero\n",
    "        print('No ha ingresado un número entero')\n",
    "    else:\n",
    "        numero = int(numero)# lo pasamos a int ya que todo lo ingresado se guarda como str\n",
    "        primo = 0\n",
    "        for j in range(1,numero+1): #con este for  validamos si es prmo o no\n",
    "            resultado = numero % j\n",
    "            if resultado == 0:\n",
    "                primo+=1\n",
    "        if primo == 2:\n",
    "            print(f\"El número {numero} es un numero primo\\n\")\n",
    "        else:\n",
    "            print(f\"El número {numero} no es un numero primo\\n\")\n",
    "\n",
    "        auxiliar = False # es para ayudarnos a detener o seguir el programa\n",
    "        while True:\n",
    "            print(\"¿Desea ingresar un nuevo número?\")\n",
    "            print(\"Escriba 'A' para continuar\")\n",
    "            print(\"Escriba 'B' para Salir\")\n",
    "            opcion = input()\n",
    "\n",
    "            if opcion.upper() == 'A':\n",
    "                break\n",
    "            if opcion.upper() == 'B':\n",
    "                auxiliar = True\n",
    "                break\n",
    "            else:\n",
    "                print(\"Opcion invalida\") #se repetira el while interno hasta que ingrese una opcion valida\n",
    "\n",
    "        if auxiliar:\n",
    "            break\n",
    "\n",
    "print(\"Ha salido exitosamente\")"
   ]
  },
  {
   "attachments": {},
   "cell_type": "markdown",
   "metadata": {},
   "source": [
    "14) Crear un ciclo while que encuentre dentro del rango de 100 a 300 el primer número divisible por 3 y además múltiplo de 6"
   ]
  },
  {
   "cell_type": "code",
   "execution_count": 30,
   "metadata": {},
   "outputs": [
    {
     "name": "stdout",
     "output_type": "stream",
     "text": [
      "El numero 102 es divisible de 3 y asu vez es multiplo de 6\n"
     ]
    }
   ],
   "source": [
    "inicio = 100\n",
    "while inicio <= 300:\n",
    "    if inicio % 3 == 0 and inicio % 6 == 0:\n",
    "        print(f\"El numero {inicio} es divisible de 3 y a su vez es multiplo de 6\")\n",
    "        break\n",
    "    inicio+=1\n"
   ]
  }
 ],
 "metadata": {
  "interpreter": {
   "hash": "c85384e4cb51c8b72350f3a8712cc8351fdc3955e32a27f9b60c6242ab125f01"
  },
  "kernelspec": {
   "display_name": "Python 3 (ipykernel)",
   "language": "python",
   "name": "python3"
  },
  "language_info": {
   "codemirror_mode": {
    "name": "ipython",
    "version": 3
   },
   "file_extension": ".py",
   "mimetype": "text/x-python",
   "name": "python",
   "nbconvert_exporter": "python",
   "pygments_lexer": "ipython3",
   "version": "3.11.2"
  }
 },
 "nbformat": 4,
 "nbformat_minor": 4
}

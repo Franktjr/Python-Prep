{
 "cells": [
  {
   "attachments": {},
   "cell_type": "markdown",
   "metadata": {},
   "source": [
    "## Clases y Programación Orientada a Objetos"
   ]
  },
  {
   "attachments": {},
   "cell_type": "markdown",
   "metadata": {},
   "source": [
    "1) Crear la clase vehículo que contenga los atributos:<br>\n",
    "Color<br>\n",
    "Si es moto, auto, camioneta ó camión<br>\n",
    "Cilindrada del motor"
   ]
  },
  {
   "cell_type": "code",
   "execution_count": 1,
   "metadata": {},
   "outputs": [],
   "source": [
    "class VEHICULO:\n",
    "    def __init__(self,color,tipo_vehiculo,cilindrada):\n",
    "        self.color = color\n",
    "        self.tipo_vehiculo = tipo_vehiculo\n",
    "        self.cilindrada = cilindrada"
   ]
  },
  {
   "attachments": {},
   "cell_type": "markdown",
   "metadata": {},
   "source": [
    "2) A la clase Vehiculo creada en el punto 1, agregar los siguientes métodos:<br>\n",
    "Acelerar<br>\n",
    "Frenar<br>\n",
    "Doblar<br>"
   ]
  },
  {
   "cell_type": "code",
   "execution_count": 3,
   "metadata": {},
   "outputs": [],
   "source": [
    "class VEHICULO:\n",
    "    def __init__(self,color,tipo_vehiculo,cilindrada):\n",
    "        self.color = color\n",
    "        self.tipo_vehiculo = tipo_vehiculo\n",
    "        self.cilindrada = cilindrada\n",
    "        self.velocidad = 0\n",
    "        self.direccion = 0\n",
    "    \n",
    "    def acelerar(self,velocidad):\n",
    "        self.velocidad += velocidad\n",
    "        print(\"Acelerando\")\n",
    "\n",
    "\n",
    "    def frenar(self,velocidad):\n",
    "        self.velocidad -= velocidad\n",
    "        print(\"Frenando\")\n",
    "\n",
    "    def doblar(self,grados):\n",
    "        self.direccion += grados\n",
    "        print(\"Doblando\")"
   ]
  },
  {
   "attachments": {},
   "cell_type": "markdown",
   "metadata": {},
   "source": [
    "3) Instanciar 3 objetos de la clase vehículo y ejecutar sus métodos, probar luego el resultado"
   ]
  },
  {
   "cell_type": "code",
   "execution_count": 6,
   "metadata": {},
   "outputs": [
    {
     "name": "stdout",
     "output_type": "stream",
     "text": [
      "Acelerando\n",
      "Frenando\n",
      "Doblando\n"
     ]
    }
   ],
   "source": [
    "class VEHICULO:\n",
    "    def __init__(self,color,tipo_vehiculo,cilindrada):\n",
    "        self.color = color\n",
    "        self.tipo_vehiculo = tipo_vehiculo\n",
    "        self.cilindrada = cilindrada\n",
    "        self.velocidad = 0\n",
    "        self.direccion = 0\n",
    "    \n",
    "    def acelerar(self,velocidad):\n",
    "        self.velocidad += velocidad\n",
    "        print(\"Acelerando\")\n",
    "        return\n",
    "\n",
    "\n",
    "    def frenar(self,velocidad):\n",
    "        self.velocidad -= velocidad\n",
    "        print(\"Frenando\")\n",
    "        return\n",
    "\n",
    "    def doblar(self,grados):\n",
    "        self.direccion += grados\n",
    "        print(\"Doblando\")\n",
    "        return\n",
    "\n",
    "carro_A = VEHICULO('azul','Carro',2)\n",
    "\n",
    "carro_A.acelerar(5)\n",
    "carro_A.frenar(2)\n",
    "carro_A.doblar(100)"
   ]
  },
  {
   "attachments": {},
   "cell_type": "markdown",
   "metadata": {},
   "source": [
    "4) Agregar a la clase Vehiculo, un método que muestre su estado, es decir, a que velocidad se encuentra y su dirección. Y otro método que muestre color, tipo y cilindrada"
   ]
  },
  {
   "cell_type": "code",
   "execution_count": 9,
   "metadata": {},
   "outputs": [
    {
     "name": "stdout",
     "output_type": "stream",
     "text": [
      "Color: verde\n",
      "Tipo: Moto\n",
      "Cilindrado: 3\n",
      "El vehiculo se encuentra a una velocidad de 180km/h y tiene una dirrecion de 160 grados\n",
      "Color: azul\n",
      "Tipo: Carro\n",
      "Cilindrado: 2\n",
      "El vehiculo se encuentra a una velocidad de 180km/h y tiene una dirrecion de 160 grados\n"
     ]
    }
   ],
   "source": [
    "class VEHICULO:\n",
    "    def __init__(self,color,tipo_vehiculo,cilindrada):\n",
    "        self.color = color\n",
    "        self.tipo_vehiculo = tipo_vehiculo\n",
    "        self.cilindrada = cilindrada\n",
    "        self.velocidad = 180\n",
    "        self.direccion = 160\n",
    "    \n",
    "    def acelerar(self,velocidad):\n",
    "        self.velocidad += velocidad\n",
    "        print(\"Acelerando\")\n",
    "\n",
    "\n",
    "    def frenar(self,velocidad):\n",
    "        self.velocidad -= velocidad\n",
    "        print(\"Frenando\")\n",
    "\n",
    "    def doblar(self,grados):\n",
    "        self.direccion += grados\n",
    "        print(\"Doblando\")\n",
    "    \n",
    "    def estado(self):\n",
    "        print(f'El vehiculo se encuentra a una velocidad de {self.velocidad}km/h y tiene una dirrecion de {self.direccion} grados')\n",
    "\n",
    "    def caracteristicas(self):\n",
    "        print(f'Color: {self.color}')\n",
    "        print(f'Tipo: {self.tipo_vehiculo}')\n",
    "        print(f'Cilindrado: {self.cilindrada}')\n",
    "\n",
    "\n",
    "\n",
    "carro_B = VEHICULO('verde','Moto',3)\n",
    "carro_B.caracteristicas()\n",
    "carro_B.estado()\n",
    "\n",
    "carro_A = VEHICULO('azul','Carro',2)\n",
    "carro_A.caracteristicas()\n",
    "carro_A.estado()\n",
    "\n",
    "\n",
    "\n"
   ]
  },
  {
   "attachments": {},
   "cell_type": "markdown",
   "metadata": {},
   "source": [
    "5) Crear una clase que permita utilizar las funciones creadas en la práctica del módulo 7<br>\n",
    "Verificar Primo<br>\n",
    "Valor modal<br>\n",
    "Conversión grados<br>\n",
    "Factorial<br>"
   ]
  },
  {
   "cell_type": "code",
   "execution_count": 11,
   "metadata": {},
   "outputs": [],
   "source": [
    "# para poder usarlo se copio Prep_Course_Homework_07.py de la carpeta M07_funciones hacia la carpeta M08_clasesyOOP y se importo.\n",
    "import Prep_Course_Homework_07\n",
    "\n",
    "\n",
    "class FUNCIONES_PRESTADAS:\n",
    "    def verificar_primo(self,numero):\n",
    "        resultado = Prep_Course_Homework_07.primo(numero)\n",
    "        print('resultado:',resultado)\n",
    "    \n",
    "    def valor_modal(self,lista): # es el valor mas repetido en un conjunto de valores\n",
    "        resultado= Prep_Course_Homework_07.numero_mas_repetido(lista)\n",
    "        print(resultado)\n",
    "    \n",
    "    def conversion_grados(self,medida_origen,valor,medida_destino):\n",
    "        resultado = Prep_Course_Homework_07.llamando_operacion(medida_origen,valor,medida_destino)\n",
    "        cadena = f'{valor}°{medida_origen} son alrededor de {resultado}'\n",
    "        print(cadena)\n",
    "    \n",
    "    def factorial(self,numero):\n",
    "        resultado = Prep_Course_Homework_07.factorial_calculo(numero)\n",
    "        cadena = f'El factorial de {numero} es {resultado}'\n",
    "        print(cadena)\n",
    "    \n",
    "\n"
   ]
  },
  {
   "attachments": {},
   "cell_type": "markdown",
   "metadata": {},
   "source": [
    "6) Probar las funciones incorporadas en la clase del punto 5"
   ]
  },
  {
   "cell_type": "code",
   "execution_count": 10,
   "metadata": {},
   "outputs": [
    {
     "name": "stdout",
     "output_type": "stream",
     "text": [
      "Mostrando si es primo o no\n",
      "resultado: False\n",
      "\n",
      "Mostrando el numero mas repetido en una lista de numeros\n",
      "mas_repetido 7\n",
      "repeticiones 5\n",
      "(7, 5)\n",
      "\n",
      "Mostrando la conversion a grados\n",
      "280°F son alrededor de 137.77777777777777°C\n",
      "\n",
      "Mostrando el factorial\n",
      "El factorial de 5 es 120\n"
     ]
    }
   ],
   "source": [
    "prueba = FUNCIONES_PRESTADAS()\n",
    "numeros = [7,3,2,5,3,7,3,5,9,7,7,3,7,5,3]\n",
    "\n",
    "print('Mostrando si es primo o no')\n",
    "prueba.verificar_primo(12)\n",
    "print('\\nMostrando el numero mas repetido en una lista de numeros')\n",
    "prueba.valor_modal(numeros)\n",
    "print('\\nMostrando la conversion a grados')\n",
    "prueba.conversion_grados('F',280,'C')\n",
    "print('\\nMostrando el factorial')\n",
    "prueba.factorial(5)"
   ]
  },
  {
   "attachments": {},
   "cell_type": "markdown",
   "metadata": {},
   "source": [
    "7) Es necesario que la clase creada en el punto 5 contenga una lista, sobre la cual se apliquen las funciones incorporadas"
   ]
  },
  {
   "cell_type": "code",
   "execution_count": null,
   "metadata": {},
   "outputs": [],
   "source": [
    "# pass"
   ]
  },
  {
   "attachments": {},
   "cell_type": "markdown",
   "metadata": {},
   "source": [
    "8) Crear un archivo .py aparte y ubicar allí la clase generada en el punto anterior. Luego realizar la importación del módulo y probar alguna de sus funciones"
   ]
  },
  {
   "cell_type": "code",
   "execution_count": null,
   "metadata": {},
   "outputs": [],
   "source": [
    "# pass"
   ]
  }
 ],
 "metadata": {
  "interpreter": {
   "hash": "c85384e4cb51c8b72350f3a8712cc8351fdc3955e32a27f9b60c6242ab125f01"
  },
  "kernelspec": {
   "display_name": "Python 3 (ipykernel)",
   "language": "python",
   "name": "python3"
  },
  "language_info": {
   "codemirror_mode": {
    "name": "ipython",
    "version": 3
   },
   "file_extension": ".py",
   "mimetype": "text/x-python",
   "name": "python",
   "nbconvert_exporter": "python",
   "pygments_lexer": "ipython3",
   "version": "3.12.0"
  }
 },
 "nbformat": 4,
 "nbformat_minor": 4
}
